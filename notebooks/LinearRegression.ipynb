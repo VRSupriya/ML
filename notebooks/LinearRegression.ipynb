{
 "cells": [
  {
   "cell_type": "code",
   "execution_count": 1,
   "id": "515b7396",
   "metadata": {},
   "outputs": [],
   "source": [
    "import numpy as np\n"
   ]
  },
  {
   "cell_type": "code",
   "execution_count": 6,
   "id": "47724e00",
   "metadata": {},
   "outputs": [
    {
     "name": "stdout",
     "output_type": "stream",
     "text": [
      "[[1]\n",
      " [2]\n",
      " [3]\n",
      " [4]\n",
      " [5]]\n",
      "[3 4 2 5 6]\n"
     ]
    }
   ],
   "source": [
    "X = np.array([1, 2, 3, 4, 5])\n",
    "X = X.reshape(-1, 1)\n",
    "print(X)\n",
    "y = np.array([3,4,2,5,6])\n",
    "print(y)\n"
   ]
  },
  {
   "cell_type": "code",
   "execution_count": 12,
   "id": "9613d06b",
   "metadata": {},
   "outputs": [
    {
     "data": {
      "text/plain": [
       "array([[1., 1.],\n",
       "       [1., 2.],\n",
       "       [1., 3.],\n",
       "       [1., 4.],\n",
       "       [1., 5.]])"
      ]
     },
     "execution_count": 12,
     "metadata": {},
     "output_type": "execute_result"
    }
   ],
   "source": [
    "np.c_[np.ones(X.shape),X]"
   ]
  },
  {
   "cell_type": "code",
   "execution_count": 13,
   "id": "da025116",
   "metadata": {},
   "outputs": [],
   "source": [
    "#add bias terms\n",
    "X_b = np.c_[np.ones(X.shape),X]"
   ]
  },
  {
   "cell_type": "code",
   "execution_count": 14,
   "id": "750fbe85",
   "metadata": {},
   "outputs": [],
   "source": [
    "#initialise parameters\n",
    "theta = np.random.randn(2) #[intercept, slope]\n",
    "lr = 0.01 \n",
    "n_epoch = 1000\n",
    "m = len(X)"
   ]
  },
  {
   "cell_type": "code",
   "execution_count": null,
   "id": "e909025d",
   "metadata": {},
   "outputs": [
    {
     "data": {
      "text/plain": [
       "array([[1., 1., 1., 1., 1.],\n",
       "       [1., 2., 3., 4., 5.]])"
      ]
     },
     "execution_count": 29,
     "metadata": {},
     "output_type": "execute_result"
    }
   ],
   "source": []
  },
  {
   "cell_type": "code",
   "execution_count": 33,
   "id": "6f6481c0",
   "metadata": {},
   "outputs": [
    {
     "name": "stdout",
     "output_type": "stream",
     "text": [
      "Parameters (intercept, slope): [1.89997947 0.70000569]\n",
      "Predictions: [2.59998515 3.29999084 3.99999653 4.70000222 5.4000079 ]\n",
      "Actual : [3 4 2 5 6]\n"
     ]
    }
   ],
   "source": [
    "#Gradient Descent loop\n",
    "\n",
    "for epoch in range(n_epoch):\n",
    "    gradient = (2/m) * X_b.T.dot(X_b.dot(theta) - y)\n",
    "    theta -= lr*gradient\n",
    "\n",
    "print(\"Parameters (intercept, slope):\", theta)\n",
    "\n",
    "y_pred = X_b.dot(theta)\n",
    "print(\"Predictions:\", y_pred)\n",
    "print(\"Actual :\", y)"
   ]
  },
  {
   "cell_type": "code",
   "execution_count": 36,
   "id": "4f114188",
   "metadata": {},
   "outputs": [
    {
     "name": "stdout",
     "output_type": "stream",
     "text": [
      "prediction before training f(5): 0.000\n",
      "epoch 1: w= 2.200, loss= 44.00000000\n",
      "epoch 2: w= 1.980, loss= 0.44000015\n",
      "epoch 3: w= 2.002, loss= 0.00440001\n",
      "epoch 4: w= 2.000, loss= 0.00004400\n",
      "epoch 5: w= 2.000, loss= 0.00000044\n",
      "epoch 6: w= 2.000, loss= 0.00000000\n",
      "epoch 7: w= 2.000, loss= 0.00000000\n",
      "epoch 8: w= 2.000, loss= 0.00000000\n",
      "epoch 9: w= 2.000, loss= 0.00000000\n",
      "epoch 10: w= 2.000, loss= 0.00000000\n",
      "prediction after training f(5): 10.000\n"
     ]
    }
   ],
   "source": [
    "#gradient descent using numpy\n",
    "\n",
    "X = np.array([1,2,3,4,5], dtype=np.float32)\n",
    "y = np.array([2,4,6,8,10], dtype=np.float32)\n",
    "\n",
    "w = 0.0\n",
    "\n",
    "#model prediction\n",
    "def forward(x):\n",
    "    return w * x\n",
    "\n",
    "#loss\n",
    "def loss(y,y_pred):\n",
    "    return ((y_pred - y)**2).mean()\n",
    "\n",
    "#gradient\n",
    "#MSE = 1/N *(w*x - y)**2\n",
    "#dJ/dw = 1/N *2x(w*x - y\n",
    "\n",
    "def gradient(x,y,y_pred):\n",
    "    return np.dot(2*x, y_pred - y ).mean()\n",
    "\n",
    "print(f\"prediction before training f(5): {forward(5):.3f}\")\n",
    "\n",
    "#training\n",
    "\n",
    "lr = 0.01\n",
    "n_epoch = 10\n",
    "\n",
    "for epoch in range(n_epoch):\n",
    "    y_pred = forward(X)\n",
    "    l = loss(y,y_pred)\n",
    "    dw = gradient(X,y,y_pred)\n",
    "    w -=lr*dw\n",
    "\n",
    "    if epoch %1 ==0:\n",
    "        print(f\"epoch {epoch+1}: w= {w:.3f}, loss= {l:.8f}\")\n",
    "\n",
    "print(f\"prediction after training f(5): {forward(5):.3f}\")\n",
    "\n"
   ]
  },
  {
   "cell_type": "code",
   "execution_count": 41,
   "id": "25ef5ff1",
   "metadata": {},
   "outputs": [
    {
     "name": "stdout",
     "output_type": "stream",
     "text": [
      "prediction before training f(5): 0.000\n",
      "epoch 1: w= 0.440, loss= 44.00000000\n",
      "epoch 11: w= 1.870, loss= 0.30573449\n",
      "epoch 21: w= 1.989, loss= 0.00212438\n",
      "epoch 31: w= 1.999, loss= 0.00001476\n",
      "epoch 41: w= 2.000, loss= 0.00000010\n",
      "epoch 51: w= 2.000, loss= 0.00000000\n",
      "epoch 61: w= 2.000, loss= 0.00000000\n",
      "epoch 71: w= 2.000, loss= 0.00000000\n",
      "epoch 81: w= 2.000, loss= 0.00000000\n",
      "epoch 91: w= 2.000, loss= 0.00000000\n",
      "prediction after training f(5): 10.000\n"
     ]
    }
   ],
   "source": [
    "#gradient calculation with torch\n",
    "\n",
    "import torch\n",
    "\n",
    "\n",
    "X = torch.tensor([1,2,3,4,5], dtype=torch.float32)\n",
    "y = torch.tensor([2,4,6,8,10], dtype=torch.float32)\n",
    "\n",
    "w = torch.tensor(0.0, dtype = torch.float32, requires_grad = True)\n",
    "\n",
    "#model prediction\n",
    "def forward(x):\n",
    "    return w * x\n",
    "\n",
    "#loss\n",
    "def loss(y,y_pred):\n",
    "    return ((y_pred - y)**2).mean()\n",
    "\n",
    "\n",
    "print(f\"prediction before training f(5): {forward(5):.3f}\")\n",
    "\n",
    "#training\n",
    "\n",
    "lr = 0.01\n",
    "n_epoch = 100\n",
    "\n",
    "for epoch in range(n_epoch):\n",
    "    y_pred = forward(X)\n",
    "    l = loss(y,y_pred)\n",
    "    l.backward() #gradient calculation\n",
    "    \n",
    "    #update weight\n",
    "    with torch.no_grad():\n",
    "        w -= lr*w.grad\n",
    "    w.grad.zero_()\n",
    "\n",
    "    if epoch %10 ==0:\n",
    "        print(f\"epoch {epoch+1}: w= {w:.3f}, loss= {l:.8f}\")\n",
    "\n",
    "print(f\"prediction after training f(5): {forward(5):.3f}\")\n",
    "\n"
   ]
  },
  {
   "cell_type": "code",
   "execution_count": 51,
   "id": "d2164a5e",
   "metadata": {},
   "outputs": [
    {
     "name": "stdout",
     "output_type": "stream",
     "text": [
      "prediction before training f(5): 0.000\n",
      "epoch 1: w= 0.440, loss= 44.00000000\n",
      "epoch 11: w= 1.870, loss= 0.30573449\n",
      "epoch 21: w= 1.989, loss= 0.00212438\n",
      "epoch 31: w= 1.999, loss= 0.00001476\n",
      "epoch 41: w= 2.000, loss= 0.00000010\n",
      "epoch 51: w= 2.000, loss= 0.00000000\n",
      "epoch 61: w= 2.000, loss= 0.00000000\n",
      "epoch 71: w= 2.000, loss= 0.00000000\n",
      "epoch 81: w= 2.000, loss= 0.00000000\n",
      "epoch 91: w= 2.000, loss= 0.00000000\n",
      "prediction after training f(5): 10.000\n"
     ]
    }
   ],
   "source": [
    "#1. design Model(input, output size, forward pass)\n",
    "#2. construct loss and optimizer\n",
    "#3. training loop\n",
    "#   - forward pass : compute prediction\n",
    "#   - backward pass : compute gradient\n",
    "#   - update weights\n",
    "\n",
    "import torch\n",
    "import torch.nn as nn\n",
    "\n",
    "\n",
    "X = torch.tensor([1,2,3,4,5], dtype=torch.float32)\n",
    "y = torch.tensor([2,4,6,8,10], dtype=torch.float32)\n",
    "\n",
    "\n",
    "w = torch.tensor(0.0, dtype = torch.float32, requires_grad = True)\n",
    "\n",
    "#model prediction\n",
    "def forward(x):\n",
    "    return w * x\n",
    "\n",
    "print(f\"prediction before training f(5): {forward(5):.3f}\")\n",
    "\n",
    "#training\n",
    "\n",
    "lr = 0.01\n",
    "n_epoch = 100\n",
    "\n",
    "loss = nn.MSELoss()\n",
    "optimizer = torch.optim.SGD([w], lr)\n",
    "\n",
    "for epoch in range(n_epoch):\n",
    "    y_pred = forward(X)\n",
    "    l = loss(y,y_pred)\n",
    "    l.backward() #gradient calculation\n",
    "    \n",
    "    optimizer.step()\n",
    "    optimizer.zero_grad()\n",
    "\n",
    "    if epoch %10 ==0:\n",
    "        print(f\"epoch {epoch+1}: w= {w:.3f}, loss= {l:.8f}\")\n",
    "\n",
    "print(f\"prediction after training f(5): {forward(5):.3f}\")\n"
   ]
  },
  {
   "cell_type": "code",
   "execution_count": 52,
   "id": "bc7d7db8",
   "metadata": {},
   "outputs": [
    {
     "name": "stdout",
     "output_type": "stream",
     "text": [
      "5 1\n",
      "prediction before training f(5): -1.101\n",
      "epoch 1: w= 0.132, loss= 52.08150101\n",
      "epoch 11: w= 1.580, loss= 0.47390956\n",
      "epoch 21: w= 1.687, loss= 0.22518058\n",
      "epoch 31: w= 1.703, loss= 0.20944989\n",
      "epoch 41: w= 1.714, loss= 0.19572841\n",
      "epoch 51: w= 1.723, loss= 0.18290977\n",
      "epoch 61: w= 1.732, loss= 0.17093097\n",
      "epoch 71: w= 1.741, loss= 0.15973656\n",
      "epoch 81: w= 1.750, loss= 0.14927521\n",
      "epoch 91: w= 1.758, loss= 0.13949922\n",
      "prediction after training f(5): 9.674\n"
     ]
    }
   ],
   "source": [
    "#1. design Model(input, output size, forward pass)\n",
    "#2. construct loss and optimizer\n",
    "#3. training loop\n",
    "#   - forward pass : compute prediction\n",
    "#   - backward pass : compute gradient\n",
    "#   - update weights\n",
    "\n",
    "import torch\n",
    "import torch.nn as nn\n",
    "\n",
    "\n",
    "X = torch.tensor([1,2,3,4,5], dtype=torch.float32).view(-1,1)\n",
    "y = torch.tensor([2,4,6,8,10], dtype=torch.float32).view(-1,1)\n",
    "\n",
    "X_test = torch.tensor([5], dtype = torch.float32)\n",
    "\n",
    "n_samples, n_features = X.shape\n",
    "print(n_samples, n_features )\n",
    "\n",
    "input_size = n_features\n",
    "output_size = n_features\n",
    "#model prediction\n",
    "model = nn.Linear(input_size, output_size)\n",
    "\n",
    "print(f\"prediction before training f(5): {model(X_test).item():.3f}\")\n",
    "\n",
    "#training\n",
    "\n",
    "lr = 0.01\n",
    "n_epoch = 100\n",
    "\n",
    "loss = nn.MSELoss()\n",
    "optimizer = torch.optim.SGD(model.parameters(), lr)\n",
    "\n",
    "for epoch in range(n_epoch):\n",
    "    y_pred = model(X)\n",
    "    l = loss(y,y_pred)\n",
    "    l.backward() #gradient calculation\n",
    "    \n",
    "    optimizer.step()\n",
    "    optimizer.zero_grad()\n",
    "\n",
    "    if epoch %10 ==0:\n",
    "        [w,b] = model.parameters()\n",
    "        print(f\"epoch {epoch+1}: w= {w[0][0].item():.3f}, loss= {l:.8f}\")\n",
    "\n",
    "print(f\"prediction after training f(5): {model(X_test).item():.3f}\")\n"
   ]
  },
  {
   "cell_type": "code",
   "execution_count": 53,
   "id": "7de717e6",
   "metadata": {},
   "outputs": [
    {
     "name": "stdout",
     "output_type": "stream",
     "text": [
      "5 1\n",
      "prediction before training f(5): -4.514\n",
      "epoch 1: w= -0.118, loss= 95.94094086\n",
      "epoch 11: w= 1.837, loss= 0.43454036\n",
      "epoch 21: w= 1.969, loss= 0.00308290\n",
      "epoch 31: w= 1.978, loss= 0.00106073\n",
      "epoch 41: w= 1.980, loss= 0.00098303\n",
      "epoch 51: w= 1.980, loss= 0.00091862\n",
      "epoch 61: w= 1.981, loss= 0.00085846\n",
      "epoch 71: w= 1.982, loss= 0.00080223\n",
      "epoch 81: w= 1.982, loss= 0.00074970\n",
      "epoch 91: w= 1.983, loss= 0.00070060\n",
      "prediction after training f(5): 9.977\n"
     ]
    }
   ],
   "source": [
    "#1. design Model(input, output size, forward pass)\n",
    "#2. construct loss and optimizer\n",
    "#3. training loop\n",
    "#   - forward pass : compute prediction\n",
    "#   - backward pass : compute gradient\n",
    "#   - update weights\n",
    "\n",
    "import torch\n",
    "import torch.nn as nn\n",
    "\n",
    "\n",
    "X = torch.tensor([1,2,3,4,5], dtype=torch.float32).view(-1,1)\n",
    "y = torch.tensor([2,4,6,8,10], dtype=torch.float32).view(-1,1)\n",
    "\n",
    "X_test = torch.tensor([5], dtype = torch.float32)\n",
    "\n",
    "n_samples, n_features = X.shape\n",
    "print(n_samples, n_features )\n",
    "\n",
    "input_size = n_features\n",
    "output_size = n_features\n",
    "#model prediction\n",
    "# model = nn.Linear(input_size, output_size)\n",
    "\n",
    "class LinearRegression(nn.Module):\n",
    "\n",
    "    def __init__(self, input_dim, output_dim):\n",
    "        super(LinearRegression, self).__init__()\n",
    "\n",
    "        self.lin = nn.Linear(input_dim, output_dim)\n",
    "\n",
    "    def forward(self, x):\n",
    "        return self.lin(x)\n",
    "\n",
    "model = LinearRegression(input_size, output_size)\n",
    "\n",
    "print(f\"prediction before training f(5): {model(X_test).item():.3f}\")\n",
    "\n",
    "#training\n",
    "\n",
    "lr = 0.01\n",
    "n_epoch = 100\n",
    "\n",
    "loss = nn.MSELoss()\n",
    "optimizer = torch.optim.SGD(model.parameters(), lr)\n",
    "\n",
    "for epoch in range(n_epoch):\n",
    "    y_pred = model(X)\n",
    "    l = loss(y,y_pred)\n",
    "    l.backward() #gradient calculation\n",
    "    \n",
    "    optimizer.step()\n",
    "    optimizer.zero_grad()\n",
    "\n",
    "    if epoch %10 ==0:\n",
    "        [w,b] = model.parameters()\n",
    "        print(f\"epoch {epoch+1}: w= {w[0][0].item():.3f}, loss= {l:.8f}\")\n",
    "\n",
    "print(f\"prediction after training f(5): {model(X_test).item():.3f}\")\n"
   ]
  },
  {
   "cell_type": "markdown",
   "id": "a9b00b56",
   "metadata": {},
   "source": [
    "### Linea Regression using pytorch Implementation"
   ]
  },
  {
   "cell_type": "code",
   "execution_count": 3,
   "id": "b84d263e",
   "metadata": {},
   "outputs": [
    {
     "name": "stdout",
     "output_type": "stream",
     "text": [
      "epoch 10: loss = 4379.29443\n",
      "epoch 20: loss = 3267.79199\n",
      "epoch 30: loss = 2463.46338\n",
      "epoch 40: loss = 1880.80127\n",
      "epoch 50: loss = 1458.30371\n",
      "epoch 60: loss = 1151.66589\n",
      "epoch 70: loss = 928.92999\n",
      "epoch 80: loss = 767.01428\n",
      "epoch 90: loss = 649.22784\n",
      "epoch 100: loss = 563.48792\n"
     ]
    },
    {
     "data": {
      "image/png": "[encoded data removed]",
      "text/plain": [
       "<Figure size 640x480 with 1 Axes>"
      ]
     },
     "metadata": {},
     "output_type": "display_data"
    }
   ],
   "source": [
    "#1. design Model(input, output size, forward pass)\n",
    "#2. construct loss and optimizer\n",
    "#3. training loop\n",
    "#   - forward pass : compute prediction\n",
    "#   - backward pass : compute gradient\n",
    "#   - update weights\n",
    "\n",
    "import torch\n",
    "import torch.nn as nn\n",
    "import numpy as np\n",
    "from sklearn import datasets\n",
    "import matplotlib.pyplot as plt\n",
    "\n",
    "#0. Prepare data\n",
    "X_numpy, y_numpy = datasets.make_regression(n_samples=100, n_features=1, noise=20, random_state=1)\n",
    "\n",
    "X = torch.from_numpy(X_numpy.astype(np.float32))\n",
    "y = torch.from_numpy(y_numpy.astype(np.float32)).view(-1,1)\n",
    "\n",
    "n_samples, n_features = X.shape\n",
    "\n",
    "#1. model\n",
    "input_size = n_features\n",
    "output_size = 1\n",
    "\n",
    "model = nn.Linear(input_size,output_size)\n",
    "\n",
    "#loss and optimizer\n",
    "lr = 0.01\n",
    "criterion = nn.MSELoss()\n",
    "optimizer = torch.optim.SGD(model.parameters(), lr)\n",
    "\n",
    "#3. training loop\n",
    "n_epochs = 100\n",
    "for epoch in range(n_epochs):\n",
    "    #forward pass\n",
    "    y_pred = model(X)\n",
    "    loss = criterion(y_pred,y)\n",
    "    #backward pass\n",
    "    loss.backward()\n",
    "    #update weight\n",
    "    optimizer.step()\n",
    "    optimizer.zero_grad()\n",
    "\n",
    "    if (epoch+1)%10==0:\n",
    "        print(f\"epoch {epoch+1}: loss = {loss.item():.5f}\")\n",
    "\n",
    "pred = model(X).detach().numpy()\n",
    "plt.plot(X_numpy,y_numpy,'ro')\n",
    "plt.plot(X_numpy, pred,'b')\n",
    "plt.show()\n",
    "\n",
    "\n",
    "\n"
   ]
  },
  {
   "cell_type": "markdown",
   "id": "f0eccae8",
   "metadata": {},
   "source": [
    "### Logistic Regression"
   ]
  },
  {
   "cell_type": "code",
   "execution_count": 5,
   "id": "eaba322f",
   "metadata": {},
   "outputs": [
    {
     "name": "stdout",
     "output_type": "stream",
     "text": [
      "epoch 10: loss=0.61774\n",
      "epoch 20: loss=0.50940\n",
      "epoch 30: loss=0.44129\n",
      "epoch 40: loss=0.39415\n",
      "epoch 50: loss=0.35921\n",
      "epoch 60: loss=0.33203\n",
      "epoch 70: loss=0.31012\n",
      "epoch 80: loss=0.29198\n",
      "epoch 90: loss=0.27665\n",
      "epoch 100: loss=0.26347\n",
      "acc=0.895\n"
     ]
    }
   ],
   "source": [
    "#1. design Model(input, output size, forward pass)\n",
    "#2. construct loss and optimizer\n",
    "#3. training loop\n",
    "#   - forward pass : compute prediction\n",
    "#   - backward pass : compute gradient\n",
    "#   - update weights\n",
    "\n",
    "from tkinter import N\n",
    "import torch\n",
    "import torch.nn as nn\n",
    "import numpy as np\n",
    "from sklearn import datasets\n",
    "from sklearn.preprocessing import StandardScaler\n",
    "from sklearn.model_selection import train_test_split\n",
    "\n",
    "#0. dataset\n",
    "bc = datasets.load_breast_cancer()\n",
    "X, y = bc.data, bc.target\n",
    "\n",
    "n_samples, n_features = X.shape\n",
    "\n",
    "X_train, X_test, y_train, y_test = train_test_split(X,y,test_size=.2, random_state=1234)\n",
    "#scale\n",
    "sc = StandardScaler()\n",
    "X_train = sc.fit_transform(X_train)\n",
    "X_test = sc.transform(X_test)\n",
    "\n",
    "X_train = torch.from_numpy(X_train.astype(np.float32))\n",
    "X_test = torch.from_numpy(X_test.astype(np.float32))\n",
    "y_train = torch.from_numpy(y_train.astype(np.float32)).view(-1,1)\n",
    "y_test = torch.from_numpy(y_test.astype(np.float32)).view(-1,1)\n",
    "\n",
    "#1. model\n",
    "class LogisticRegression(nn.Module):\n",
    "    def __init__(self, n_features):\n",
    "        super(LogisticRegression,self).__init__()\n",
    "        self.linear = nn.Linear(n_features, 1)\n",
    "\n",
    "    def forward(self, x):\n",
    "        return torch.sigmoid(self.linear(x))\n",
    "model = LogisticRegression(n_features)\n",
    "\n",
    "#2. loss and optimizer\n",
    "lr = 0.01\n",
    "criterion = nn.BCELoss()\n",
    "optimizer = torch.optim.SGD(model.parameters(), lr)\n",
    "\n",
    "# training\n",
    "n_epochs = 100\n",
    "for epoch in range(n_epochs):\n",
    "\n",
    "    #forward pass and loss\n",
    "    y_pred = model(X_train)\n",
    "    loss = criterion(y_pred,y_train)\n",
    "\n",
    "    #backward pass, compute gradient\n",
    "    loss.backward()\n",
    "\n",
    "    #update weights\n",
    "    optimizer.step()\n",
    "    #zero gradient\n",
    "    optimizer.zero_grad()\n",
    "\n",
    "    if (epoch+1)%10==0:\n",
    "        print(f\"epoch {epoch+1}: loss={loss.item():.5f}\")\n",
    "with torch.no_grad():\n",
    "    y_pred = model(X_test)\n",
    "    y_pred_cls = y_pred.round()\n",
    "    acc = y_pred_cls.eq(y_test).sum()/len(y_test)\n",
    "    print(f\"acc={acc:.3f}\")\n",
    "\n",
    "\n"
   ]
  },
  {
   "cell_type": "markdown",
   "id": "115153be",
   "metadata": {},
   "source": [
    "### Dataset and DataLoader"
   ]
  },
  {
   "cell_type": "code",
   "execution_count": 1,
   "id": "c5972ba6",
   "metadata": {},
   "outputs": [
    {
     "data": {
      "text/plain": [
       "[tensor([[1.3640e+01, 3.1000e+00, 2.5600e+00, 1.5200e+01, 1.1600e+02, 2.7000e+00,\n",
       "          3.0300e+00, 1.7000e-01, 1.6600e+00, 5.1000e+00, 9.6000e-01, 3.3600e+00,\n",
       "          8.4500e+02],\n",
       "         [1.3240e+01, 2.5900e+00, 2.8700e+00, 2.1000e+01, 1.1800e+02, 2.8000e+00,\n",
       "          2.6900e+00, 3.9000e-01, 1.8200e+00, 4.3200e+00, 1.0400e+00, 2.9300e+00,\n",
       "          7.3500e+02],\n",
       "         [1.3240e+01, 3.9800e+00, 2.2900e+00, 1.7500e+01, 1.0300e+02, 2.6400e+00,\n",
       "          2.6300e+00, 3.2000e-01, 1.6600e+00, 4.3600e+00, 8.2000e-01, 3.0000e+00,\n",
       "          6.8000e+02],\n",
       "         [1.4210e+01, 4.0400e+00, 2.4400e+00, 1.8900e+01, 1.1100e+02, 2.8500e+00,\n",
       "          2.6500e+00, 3.0000e-01, 1.2500e+00, 5.2400e+00, 8.7000e-01, 3.3300e+00,\n",
       "          1.0800e+03]]),\n",
       " tensor([[1.],\n",
       "         [1.],\n",
       "         [1.],\n",
       "         [1.]])]"
      ]
     },
     "execution_count": 1,
     "metadata": {},
     "output_type": "execute_result"
    }
   ],
   "source": [
    "import torch\n",
    "import torchvision\n",
    "from torch.utils.data import Dataset, DataLoader\n",
    "import numpy as np\n",
    "import math\n",
    "\n",
    "class WindeDataset(Dataset):\n",
    "\n",
    "    def __init__(self):\n",
    "        xy = np.loadtxt(\"data/wine.csv\",delimiter=',',dtype=np.float32, skiprows=1)\n",
    "        self.x = torch.from_numpy(xy[:,1:])\n",
    "        self.y = torch.from_numpy(xy[:,[0]])\n",
    "        self.n_samples = xy.shape[0]\n",
    "    \n",
    "    def __getitem__(self, index):\n",
    "        return self.x[index], self.y[index]\n",
    "    \n",
    "    def __len__(self):\n",
    "        return self.n_samples\n",
    "\n",
    "dataset = WindeDataset()\n",
    "\n",
    "dataloader = DataLoader(dataset, batch_size=4, shuffle=True, num_workers=0)\n",
    "dataiter = iter(dataloader)\n",
    "data = next(dataiter)\n",
    "data\n"
   ]
  },
  {
   "cell_type": "code",
   "execution_count": 3,
   "id": "d26ff909",
   "metadata": {},
   "outputs": [
    {
     "data": {
      "text/plain": [
       "(tensor([1.3200e+01, 1.7800e+00, 2.1400e+00, 1.1200e+01, 1.0000e+02, 2.6500e+00,\n",
       "         2.7600e+00, 2.6000e-01, 1.2800e+00, 4.3800e+00, 1.0500e+00, 3.4000e+00,\n",
       "         1.0500e+03]),\n",
       " tensor([1.]))"
      ]
     },
     "execution_count": 3,
     "metadata": {},
     "output_type": "execute_result"
    }
   ],
   "source": [
    "dataset[1]"
   ]
  },
  {
   "cell_type": "code",
   "execution_count": 9,
   "id": "bea02755",
   "metadata": {},
   "outputs": [
    {
     "name": "stdout",
     "output_type": "stream",
     "text": [
      "178\n",
      "epoch 1/2: step=5/45, input:torch.Size([4, 13])\n",
      "epoch 1/2: step=10/45, input:torch.Size([4, 13])\n",
      "epoch 1/2: step=15/45, input:torch.Size([4, 13])\n",
      "epoch 1/2: step=20/45, input:torch.Size([4, 13])\n",
      "epoch 1/2: step=25/45, input:torch.Size([4, 13])\n",
      "epoch 1/2: step=30/45, input:torch.Size([4, 13])\n",
      "epoch 1/2: step=35/45, input:torch.Size([4, 13])\n",
      "epoch 1/2: step=40/45, input:torch.Size([4, 13])\n",
      "epoch 1/2: step=45/45, input:torch.Size([2, 13])\n",
      "epoch 2/2: step=5/45, input:torch.Size([4, 13])\n",
      "epoch 2/2: step=10/45, input:torch.Size([4, 13])\n",
      "epoch 2/2: step=15/45, input:torch.Size([4, 13])\n",
      "epoch 2/2: step=20/45, input:torch.Size([4, 13])\n",
      "epoch 2/2: step=25/45, input:torch.Size([4, 13])\n",
      "epoch 2/2: step=30/45, input:torch.Size([4, 13])\n",
      "epoch 2/2: step=35/45, input:torch.Size([4, 13])\n",
      "epoch 2/2: step=40/45, input:torch.Size([4, 13])\n",
      "epoch 2/2: step=45/45, input:torch.Size([2, 13])\n"
     ]
    }
   ],
   "source": [
    "#training loop\n",
    "\n",
    "n_epochs = 2\n",
    "batch_size = 4\n",
    "n_samples = len(dataset)\n",
    "print(n_samples)\n",
    "n_iter = math.ceil(n_samples/batch_size)\n",
    "\n",
    "for epoch in range(n_epochs):\n",
    "    for i,(inputs,labels) in enumerate(dataloader):\n",
    "\n",
    "        if (i+1)%5==0:\n",
    "            print(f\"epoch {epoch+1}/{n_epochs}: step={i+1}/{n_iter}, input:{inputs.shape}\")"
   ]
  },
  {
   "cell_type": "code",
   "execution_count": 11,
   "id": "b60574a7",
   "metadata": {},
   "outputs": [],
   "source": [
    "# torchvision.datasets.MNIST()\n",
    "# torchvision.datasets.CIFAR10()\n",
    "# ..."
   ]
  },
  {
   "cell_type": "markdown",
   "id": "062e6b26",
   "metadata": {},
   "source": [
    "### Dataset Transform"
   ]
  },
  {
   "cell_type": "code",
   "execution_count": null,
   "id": "507902d6",
   "metadata": {},
   "outputs": [],
   "source": [
    "# On Images\n",
    "# ---------\n",
    "# CenterCrop, Grayscale, Pad, RandomAffine\n",
    "# RandomCrop, RandomHorizontalFlip, RandomRotation\n",
    "# Resize, Scale\n",
    "\n",
    "# On Tensors\n",
    "# ----------\n",
    "# LinearTransformation, Normalize, RandomErasing\n",
    "\n",
    "# Conversion\n",
    "# ----------\n",
    "# ToPILImage: from tensor or ndrarray\n",
    "# ToTensor : from numpy.ndarray or PILImage\n",
    "\n",
    "# Generic\n",
    "# -------\n",
    "# Use Lambda \n",
    "\n",
    "# Custom\n",
    "# ------\n",
    "# Write own class\n",
    "\n",
    "# Compose multiple Transforms\n",
    "# ---------------------------\n",
    "# composed = transforms.Compose([Rescale(256),\n",
    "#                                RandomCrop(224)])\n",
    "\n",
    "import torch\n",
    "import torchvision\n",
    "\n",
    "dataset = torchvision.datasets.MNIST(\n",
    "    root='data/', transform= torchvision.transforms.ToTensor()\n",
    ")"
   ]
  },
  {
   "cell_type": "code",
   "execution_count": 13,
   "id": "ab97ebf6",
   "metadata": {},
   "outputs": [
    {
     "name": "stdout",
     "output_type": "stream",
     "text": [
      "(tensor([1.4230e+01, 1.7100e+00, 2.4300e+00, 1.5600e+01, 1.2700e+02, 2.8000e+00,\n",
      "        3.0600e+00, 2.8000e-01, 2.2900e+00, 5.6400e+00, 1.0400e+00, 3.9200e+00,\n",
      "        1.0650e+03]), tensor([1.]))\n",
      "(tensor([2.8460e+01, 3.4200e+00, 4.8600e+00, 3.1200e+01, 2.5400e+02, 5.6000e+00,\n",
      "        6.1200e+00, 5.6000e-01, 4.5800e+00, 1.1280e+01, 2.0800e+00, 7.8400e+00,\n",
      "        2.1300e+03]), tensor([1.]))\n"
     ]
    }
   ],
   "source": [
    "import torch\n",
    "import torchvision\n",
    "from torch.utils.data import Dataset, DataLoader\n",
    "import numpy as np\n",
    "import math\n",
    "\n",
    "class WindeDataset(Dataset):\n",
    "\n",
    "    def __init__(self, transform = None):\n",
    "        xy = np.loadtxt(\"data/wine.csv\",delimiter=',',dtype=np.float32, skiprows=1)\n",
    "        self.x = xy[:,1:]\n",
    "        self.y = xy[:,[0]]\n",
    "        self.n_samples = xy.shape[0]\n",
    "\n",
    "        self.transorm = transform\n",
    "    \n",
    "    def __getitem__(self, index):\n",
    "        sample =  self.x[index], self.y[index]\n",
    "        return self.transorm(sample) if self.transorm else sample\n",
    "    \n",
    "    def __len__(self):\n",
    "        return self.n_samples\n",
    "\n",
    "class ToTensor:\n",
    "    def __call__(self, sample):\n",
    "        inp, out = sample\n",
    "        return torch.from_numpy(inp), torch.from_numpy(out)\n",
    "\n",
    "class MulTransform:\n",
    "    def __init__(self,factor):\n",
    "        self.factor = factor\n",
    "\n",
    "    def __call__(self, sample):\n",
    "        inp, out = sample\n",
    "        return self.factor* inp, out\n",
    "\n",
    "dataset = WindeDataset(transform=ToTensor())\n",
    "\n",
    "firstdata = dataset[0]\n",
    "print(firstdata)\n",
    "\n",
    "composed = torchvision.transforms.Compose([ToTensor(), MulTransform(2)])\n",
    "dataset = WindeDataset(transform=composed)\n",
    "firstdata = dataset[0]\n",
    "print(firstdata)"
   ]
  },
  {
   "cell_type": "markdown",
   "id": "6a028da7",
   "metadata": {},
   "source": [
    "### Softmax and Cross Entropy"
   ]
  },
  {
   "cell_type": "code",
   "execution_count": 15,
   "id": "29edf5cc",
   "metadata": {},
   "outputs": [
    {
     "name": "stdout",
     "output_type": "stream",
     "text": [
      "softmax ouput: [0.65900114 0.24243297 0.09856589]\n",
      "tensor([0.6590, 0.2424, 0.0986])\n"
     ]
    }
   ],
   "source": [
    "import torch\n",
    "import torch.nn as nn\n",
    "import numpy as np\n",
    "\n",
    "def softmax(x):\n",
    "    return np.exp(x)/np.sum(np.exp(x), axis = 0, keepdims=True)\n",
    "\n",
    "x = np.array([2.0,1.0,0.1])\n",
    "outputs = softmax(x)\n",
    "print(f\"softmax ouput: {outputs}\")\n",
    "\n",
    "x = torch.tensor([2.0,1.0,0.1])\n",
    "outputs = torch.softmax(x, dim = 0)\n",
    "print(outputs)\n"
   ]
  },
  {
   "cell_type": "markdown",
   "id": "d5eb196f",
   "metadata": {},
   "source": [
    "### Cross entropy"
   ]
  },
  {
   "cell_type": "code",
   "execution_count": 16,
   "id": "f34f4ddc",
   "metadata": {},
   "outputs": [
    {
     "name": "stdout",
     "output_type": "stream",
     "text": [
      "0.35667494393873245 2.3025850929940455\n"
     ]
    }
   ],
   "source": [
    "import torch\n",
    "import torch.nn as nn\n",
    "import numpy as np\n",
    "\n",
    "def cross_entropy(actual, predicted):\n",
    "    loss = -np.sum(actual * np.log(predicted))\n",
    "    return loss\n",
    "\n",
    "y = np.array([1,0, 0])\n",
    "y_pred_good = np.array([0.7, 0.2, 0.1])\n",
    "y_pred_bad = np.array([0.1,0.3,0.6])\n",
    "\n",
    "l1 = cross_entropy(y,y_pred_good)\n",
    "l2 = cross_entropy(y,y_pred_bad)\n",
    "\n",
    "print(l1, l2)\n"
   ]
  },
  {
   "cell_type": "code",
   "execution_count": 20,
   "id": "0f2f973c",
   "metadata": {},
   "outputs": [
    {
     "name": "stdout",
     "output_type": "stream",
     "text": [
      "0.4170299470424652 1.840616226196289\n",
      "tensor([2.]) tensor([0])\n",
      "tensor([2.]) tensor([1])\n"
     ]
    }
   ],
   "source": [
    "#nn.CrossEntropyLoss already apply nn.LogSoftmax + nn.NLLLoss(negative log likelihood loss)\n",
    "#no softmax in last layer\n",
    "#y has class label. not one hot encoded\n",
    "#y_pred has raw score(logits) no softmax\n",
    "\n",
    "loss = nn.CrossEntropyLoss()\n",
    "y = torch.tensor([0])\n",
    "# nsamples*nclasses\n",
    "y_pred_good = torch.tensor([[2.0,1.0,0.1]])\n",
    "y_pred_bad = torch.tensor([[0.5,2.0,0.3]])\n",
    "\n",
    "l1 = loss(y_pred_good,y)\n",
    "l2 = loss(y_pred_bad,y)\n",
    "print(l1.item(), l2.item())\n",
    "\n",
    "a_, prediction1 = torch.max(y_pred_good, 1)\n",
    "b_, prediction2 = torch.max(y_pred_bad, 1)\n",
    "print(a_, prediction1 )\n",
    "print(b_, prediction2)\n"
   ]
  },
  {
   "cell_type": "code",
   "execution_count": null,
   "id": "6e64d15f",
   "metadata": {},
   "outputs": [],
   "source": [
    "import torch\n",
    "import torch.nn as nn\n",
    "\n",
    "class NeuralNet2(nn.Module):\n",
    "    def __init__(self, input_size, hidden_size, num_classes):\n",
    "        super(NeuralNet2, self).__init__()\n",
    "        self.l1 = nn.Linear(input_size, hidden_size)\n",
    "        self.relu = nn.ReLU()\n",
    "        self.l2 = nn.Linear(hidden_size,num_classes)\n",
    "\n",
    "    def forward(self, x):\n",
    "        out = self.l1(x)\n",
    "        out = self.relu(out)\n",
    "        out = self.l2(out)\n",
    "        return out\n",
    "\n",
    "model = NeuralNet2(input_size=28*28, hidden_size=5, num_classes=3)\n",
    "criterion = nn.CrossEntropyLoss()"
   ]
  },
  {
   "cell_type": "code",
   "execution_count": 26,
   "id": "2586d69c",
   "metadata": {},
   "outputs": [],
   "source": [
    "#activation functions\n",
    "\n",
    "import torch.nn.functional as F\n",
    "\n",
    "a = F.leaky_relu(x)"
   ]
  },
  {
   "cell_type": "markdown",
   "id": "199e7330",
   "metadata": {},
   "source": [
    "### Feedforward Neural Network"
   ]
  },
  {
   "cell_type": "code",
   "execution_count": 34,
   "id": "7bed1de1",
   "metadata": {},
   "outputs": [
    {
     "name": "stdout",
     "output_type": "stream",
     "text": [
      "torch.Size([100, 1, 28, 28]) torch.Size([100])\n"
     ]
    },
    {
     "data": {
      "image/png": "[encoded data removed]",
      "text/plain": [
       "<Figure size 640x480 with 6 Axes>"
      ]
     },
     "metadata": {},
     "output_type": "display_data"
    }
   ],
   "source": [
    "#MNIST \n",
    "#DataLoader, Transformation\n",
    "#MLP, activation function\n",
    "#Loss and Optimizer\n",
    "#Training Loop(batch training)\n",
    "#Model evaluation\n",
    "#GPU support\n",
    "\n",
    "import torch\n",
    "import torch.nn as nn\n",
    "import torchvision\n",
    "import torchvision.transforms as transforms\n",
    "import matplotlib.pyplot as plt\n",
    "\n",
    "#device config\n",
    "device  = torch.device('cuda' if torch.cuda.is_available() else 'cpu')\n",
    "\n",
    "#hyper parameters\n",
    "input_size = 784 #28*28\n",
    "hidden_size = 100\n",
    "num_classes = 10\n",
    "num_epochs = 2\n",
    "batch_size = 100\n",
    "lr = 0.001\n",
    "\n",
    "#MNIST\n",
    "train_dataset = torchvision.datasets.MNIST(root=\"data/\", transform = transforms.ToTensor(), train = True, download=True)\n",
    "test_dataset = torchvision.datasets.MNIST(root = \"data/\", transform = transforms.ToTensor(), train = False )\n",
    "\n",
    "train_loader = torch.utils.data.DataLoader(dataset= train_dataset, batch_size=batch_size, shuffle=True)\n",
    "test_loader = torch.utils.data.DataLoader(dataset= test_dataset, batch_size=batch_size, shuffle=False)\n",
    "\n",
    "examples = iter(train_loader)\n",
    "\n",
    "samples, labels = next(examples)\n",
    "print(samples.shape, labels.shape)\n",
    "\n",
    "for i in range(6):\n",
    "    plt.subplot(2,3,i+1)\n",
    "    plt.imshow(samples[i][0], cmap='grey')\n",
    "\n",
    "plt.show()"
   ]
  },
  {
   "cell_type": "code",
   "execution_count": 39,
   "id": "aee7280e",
   "metadata": {},
   "outputs": [
    {
     "name": "stdout",
     "output_type": "stream",
     "text": [
      "epoch: 0/2, step: 100/600, loss: 0.42201\n",
      "epoch: 0/2, step: 200/600, loss: 0.29273\n",
      "epoch: 0/2, step: 300/600, loss: 0.40473\n",
      "epoch: 0/2, step: 400/600, loss: 0.36468\n",
      "epoch: 0/2, step: 500/600, loss: 0.35056\n",
      "epoch: 0/2, step: 600/600, loss: 0.18597\n",
      "epoch: 1/2, step: 100/600, loss: 0.18173\n",
      "epoch: 1/2, step: 200/600, loss: 0.36748\n",
      "epoch: 1/2, step: 300/600, loss: 0.11328\n",
      "epoch: 1/2, step: 400/600, loss: 0.09591\n",
      "epoch: 1/2, step: 500/600, loss: 0.06227\n",
      "epoch: 1/2, step: 600/600, loss: 0.15223\n",
      "acc: 95.48\n"
     ]
    }
   ],
   "source": [
    "class NeuralNet(nn.Module):\n",
    "    def __init__(self, input_size, hidden_size, num_classes):\n",
    "        super().__init__()\n",
    "        self.l1 = nn.Linear(input_size, hidden_size)\n",
    "        self.relu = nn.ReLU()\n",
    "        self.l2 = nn.Linear(hidden_size, num_classes)\n",
    "    \n",
    "    def forward(self, x):\n",
    "        return self.l2(self.relu(self.l1(x)))\n",
    "\n",
    "model = NeuralNet(input_size=input_size, hidden_size=hidden_size, num_classes=num_classes)\n",
    "\n",
    "#loss and optimizer\n",
    "criterion = nn.CrossEntropyLoss()\n",
    "optimizer = torch.optim.Adam(model.parameters(), lr = lr)\n",
    "\n",
    "#training loop\n",
    "n_total_steps = len(train_loader)\n",
    "\n",
    "for epoch in range(num_epochs):\n",
    "\n",
    "    for i,(images, labels) in enumerate(train_loader):\n",
    "        #100,1,28,28--> 100, 784\n",
    "        images = images.reshape(-1,28*28).to(device)\n",
    "        labels = labels.to(device)\n",
    "\n",
    "        #forward\n",
    "        pred = model(images)\n",
    "        loss = criterion(pred, labels)\n",
    "\n",
    "        #optimizer\n",
    "\n",
    "        optimizer.zero_grad()\n",
    "        loss.backward()\n",
    "        optimizer.step()\n",
    "\n",
    "        if (i+1)%100 == 0:\n",
    "            print(f\"epoch: {epoch}/{num_epochs}, step: {i+1}/{n_total_steps}, loss: {loss:.5f}\")\n",
    "\n",
    "#test\n",
    "with torch.no_grad():\n",
    "    n_correct = 0\n",
    "    n_samples = 0\n",
    "\n",
    "    for images, labels in test_loader:\n",
    "        images = images.reshape(-1, 28*28).to(device)\n",
    "        labels = labels.to(device)\n",
    "\n",
    "        pred = model(images)\n",
    "        _, predictions = torch.max(pred, dim = 1)\n",
    "        n_samples += labels.shape[0]\n",
    "        n_correct += (predictions==labels).sum().item()\n",
    "\n",
    "    acc = 100* n_correct / n_samples\n",
    "    print(f\"acc: {acc}\")\n",
    "        \n",
    "\n",
    "\n"
   ]
  },
  {
   "cell_type": "code",
   "execution_count": null,
   "id": "e07ea0ad",
   "metadata": {},
   "outputs": [],
   "source": []
  }
 ],
 "metadata": {
  "kernelspec": {
   "display_name": ".venv",
   "language": "python",
   "name": "python3"
  },
  "language_info": {
   "codemirror_mode": {
    "name": "ipython",
    "version": 3
   },
   "file_extension": ".py",
   "mimetype": "text/x-python",
   "name": "python",
   "nbconvert_exporter": "python",
   "pygments_lexer": "ipython3",
   "version": "3.11.13"
  }
 },
 "nbformat": 4,
 "nbformat_minor": 5
}
