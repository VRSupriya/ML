{
 "cells": [
  {
   "cell_type": "markdown",
   "id": "deeb1946",
   "metadata": {},
   "source": [
    "# Pytorch Tutorial\n",
    "<br/>\n",
    "https://www.youtube.com/watch?v=exaWOE8jvy8&list=PLqnslRFeH2UrcDBWF5mfPGpqQDSta6VK4&index=2"
   ]
  },
  {
   "cell_type": "code",
   "execution_count": 1,
   "id": "edb0fe27",
   "metadata": {},
   "outputs": [],
   "source": [
    "import torch"
   ]
  },
  {
   "cell_type": "markdown",
   "id": "c0fdbe3b",
   "metadata": {},
   "source": [
    "### Torch Basics"
   ]
  },
  {
   "cell_type": "code",
   "execution_count": 4,
   "id": "fb4d06e5",
   "metadata": {},
   "outputs": [
    {
     "name": "stdout",
     "output_type": "stream",
     "text": [
      "tensor([0.])\n",
      "tensor([0., 0., 0.])\n",
      "tensor([[[0., 0.],\n",
      "         [0., 0.]],\n",
      "\n",
      "        [[0., 0.],\n",
      "         [0., 0.]]])\n"
     ]
    }
   ],
   "source": [
    "#empty tensor\n",
    "print(torch.empty(1))\n",
    "print(torch.empty(3))\n",
    "print(torch.empty(2,2,2))"
   ]
  },
  {
   "cell_type": "code",
   "execution_count": 6,
   "id": "a2d2c916",
   "metadata": {},
   "outputs": [
    {
     "name": "stdout",
     "output_type": "stream",
     "text": [
      "tensor([0.0041, 0.2425])\n",
      "tensor([[0.4875, 0.2441],\n",
      "        [0.8190, 0.9803]])\n"
     ]
    }
   ],
   "source": [
    "#random values\n",
    "print(torch.rand(2))\n",
    "print(torch.rand(2,2))"
   ]
  },
  {
   "cell_type": "code",
   "execution_count": 13,
   "id": "ba392e47",
   "metadata": {},
   "outputs": [
    {
     "name": "stdout",
     "output_type": "stream",
     "text": [
      "tensor([0., 0.])\n",
      "tensor([[0., 0.],\n",
      "        [0., 0.]])\n",
      "tensor([1.])\n",
      "tensor([[1., 1.],\n",
      "        [1., 1.]])\n",
      "tensor([[1, 1],\n",
      "        [1, 1]], dtype=torch.int32)\n"
     ]
    }
   ],
   "source": [
    "#zeors\n",
    "print(torch.zeros(2))\n",
    "print(torch.zeros(2,2))\n",
    "\n",
    "#ones\n",
    "print(torch.ones(1))\n",
    "print(torch.ones(2,2))\n",
    "print(torch.ones((2,2),dtype=torch.int))"
   ]
  },
  {
   "cell_type": "code",
   "execution_count": 14,
   "id": "03f4c86d",
   "metadata": {},
   "outputs": [
    {
     "name": "stdout",
     "output_type": "stream",
     "text": [
      "tensor([1, 2, 3])\n"
     ]
    }
   ],
   "source": [
    "print(torch.tensor([1,2,3]))"
   ]
  },
  {
   "cell_type": "code",
   "execution_count": 22,
   "id": "ddbb95de",
   "metadata": {},
   "outputs": [
    {
     "name": "stdout",
     "output_type": "stream",
     "text": [
      "tensor([[0.4721, 0.7186],\n",
      "        [0.5053, 1.1358]]) tensor([[0.4721, 0.7186],\n",
      "        [0.5053, 1.1358]])\n",
      "tensor([[0.4721, 0.7186],\n",
      "        [0.5053, 1.1358]])\n"
     ]
    }
   ],
   "source": [
    "x = torch.rand(2,2)\n",
    "y = torch.rand(2,2)\n",
    "z = x+y\n",
    "zz = torch.add(x,y)\n",
    "print(z,zz)\n",
    "print(y.add_(x))"
   ]
  },
  {
   "cell_type": "code",
   "execution_count": 27,
   "id": "92bb8896",
   "metadata": {},
   "outputs": [
    {
     "name": "stdout",
     "output_type": "stream",
     "text": [
      "tensor([[-0.5756, -0.3569],\n",
      "        [ 0.3848,  0.5002]]) tensor([[-0.5756, -0.3569],\n",
      "        [ 0.3848,  0.5002]])\n",
      "tensor([[-0.5756, -0.3569],\n",
      "        [ 0.3848,  0.5002]])\n"
     ]
    }
   ],
   "source": [
    "x = torch.rand(2,2)\n",
    "y = torch.rand(2,2)\n",
    "z = x-y\n",
    "zz = torch.sub(x,y)\n",
    "print(z,zz)\n",
    "print(x.sub_(y))"
   ]
  },
  {
   "cell_type": "code",
   "execution_count": 24,
   "id": "96e61bed",
   "metadata": {},
   "outputs": [
    {
     "name": "stdout",
     "output_type": "stream",
     "text": [
      "tensor([[0.1914, 0.0646],\n",
      "        [0.0135, 0.4387]]) tensor([[0.1914, 0.0646],\n",
      "        [0.0135, 0.4387]])\n",
      "tensor([[0.1914, 0.0646],\n",
      "        [0.0135, 0.4387]])\n"
     ]
    }
   ],
   "source": [
    "x = torch.rand(2,2)\n",
    "y = torch.rand(2,2)\n",
    "z = x*y\n",
    "zz = torch.mul(x,y)\n",
    "print(z,zz)\n",
    "print(y.mul_(x))"
   ]
  },
  {
   "cell_type": "code",
   "execution_count": 26,
   "id": "9c484bef",
   "metadata": {},
   "outputs": [
    {
     "name": "stdout",
     "output_type": "stream",
     "text": [
      "tensor([[ 0.5499, 37.5152],\n",
      "        [ 0.3481,  0.4976]]) tensor([[ 0.5499, 37.5152],\n",
      "        [ 0.3481,  0.4976]])\n",
      "tensor([[ 0.5499, 37.5152],\n",
      "        [ 0.3481,  0.4976]])\n"
     ]
    }
   ],
   "source": [
    "x = torch.rand(2,2)\n",
    "y = torch.rand(2,2)\n",
    "z = x/y\n",
    "zz = torch.div(x,y)\n",
    "print(z,zz)\n",
    "print(x.div_(y))"
   ]
  },
  {
   "cell_type": "code",
   "execution_count": 34,
   "id": "55ccacc2",
   "metadata": {},
   "outputs": [
    {
     "name": "stdout",
     "output_type": "stream",
     "text": [
      "tensor([[0.1240, 0.3165, 0.1604],\n",
      "        [0.5641, 0.2784, 0.7033],\n",
      "        [0.9646, 0.2098, 0.7182],\n",
      "        [0.4369, 0.5483, 0.3461],\n",
      "        [0.6531, 0.3437, 0.0111]])\n",
      "0.27841806411743164\n",
      "tensor([[0.5641, 0.2784, 0.7033],\n",
      "        [0.9646, 0.2098, 0.7182],\n",
      "        [0.4369, 0.5483, 0.3461],\n",
      "        [0.6531, 0.3437, 0.0111]])\n"
     ]
    }
   ],
   "source": [
    "x = torch.rand(5,3)\n",
    "print(x)\n",
    "print(x[1,1].item())\n",
    "print(x[1:,:])"
   ]
  },
  {
   "cell_type": "code",
   "execution_count": 36,
   "id": "d4f66426",
   "metadata": {},
   "outputs": [
    {
     "name": "stdout",
     "output_type": "stream",
     "text": [
      "tensor([[0.1750, 0.4590, 0.4123, 0.3579],\n",
      "        [0.8230, 0.0621, 0.6219, 0.2198],\n",
      "        [0.8509, 0.4130, 0.4553, 0.1162],\n",
      "        [0.6068, 0.5022, 0.8484, 0.3866]])\n",
      "tensor([0.1750, 0.4590, 0.4123, 0.3579, 0.8230, 0.0621, 0.6219, 0.2198, 0.8509,\n",
      "        0.4130, 0.4553, 0.1162, 0.6068, 0.5022, 0.8484, 0.3866])\n",
      "tensor([[0.1750, 0.4590, 0.4123, 0.3579, 0.8230, 0.0621, 0.6219, 0.2198],\n",
      "        [0.8509, 0.4130, 0.4553, 0.1162, 0.6068, 0.5022, 0.8484, 0.3866]])\n",
      "tensor([[0.1750, 0.4590, 0.4123, 0.3579, 0.8230, 0.0621, 0.6219, 0.2198],\n",
      "        [0.8509, 0.4130, 0.4553, 0.1162, 0.6068, 0.5022, 0.8484, 0.3866]])\n"
     ]
    }
   ],
   "source": [
    "#reshape\n",
    "x = torch.rand(4,4)\n",
    "print(x)\n",
    "print(x.view(16))\n",
    "print(x.view(-1,8))\n",
    "print(x.view(2,-1))"
   ]
  },
  {
   "cell_type": "code",
   "execution_count": 48,
   "id": "eaf99281",
   "metadata": {},
   "outputs": [
    {
     "name": "stdout",
     "output_type": "stream",
     "text": [
      "tensor([1., 1., 1., 1., 1.])\n",
      "[1. 1. 1. 1. 1.]\n",
      "[2. 2. 2. 2. 2.]\n",
      "[1. 1. 1. 1. 1.]\n"
     ]
    }
   ],
   "source": [
    "#converting to numpy and vice versa\n",
    "import numpy as np\n",
    "a = torch.ones(5)\n",
    "print(a)\n",
    "b = a.numpy()\n",
    "print(b)\n",
    "c = a.numpy().copy()\n",
    "a.add_(a)\n",
    "print(b)\n",
    "print(c)"
   ]
  },
  {
   "cell_type": "code",
   "execution_count": null,
   "id": "644b77a9",
   "metadata": {},
   "outputs": [
    {
     "name": "stdout",
     "output_type": "stream",
     "text": [
      "[1. 1. 1. 1. 1.]\n",
      "tensor([1., 1., 1., 1., 1.], dtype=torch.float64)\n",
      "tensor([1, 1, 1, 1, 1], dtype=torch.int32)\n",
      "tensor([1., 1., 1., 1., 1.], dtype=torch.float64)\n",
      "tensor([1., 1., 1., 1., 1.], dtype=torch.float64)\n"
     ]
    }
   ],
   "source": [
    "a = np.ones(5)\n",
    "print(a)\n",
    "b = torch.from_numpy(a)\n",
    "c = torch.from_numpy(a).to(torch.int)\n",
    "print(torch.tensor(a))\n",
    "print(c)\n",
    "print(b)\n",
    "a = a +1 \n",
    "print(b) #IF GPU, THE VALUE WILL BE CHANGED\n"
   ]
  },
  {
   "cell_type": "code",
   "execution_count": null,
   "id": "aeab641f",
   "metadata": {},
   "outputs": [],
   "source": [
    "if torch.cuda.is_available():\n",
    "    device = torch.device('cuda')\n",
    "    x = torch.ones(5, device=device)\n",
    "    y = torch.ones(5)\n",
    "    y = y.to(device)\n",
    "    z = x + y\n",
    "    #z.numpy() throw error since these are gpu tensors\n",
    "    z = z.to('cpu')\n",
    "    z.numpy()"
   ]
  },
  {
   "cell_type": "markdown",
   "id": "2d156eb7",
   "metadata": {},
   "source": [
    "### Gradient Calculation with Autograd"
   ]
  },
  {
   "cell_type": "code",
   "execution_count": 57,
   "id": "ac0016d3",
   "metadata": {},
   "outputs": [
    {
     "name": "stdout",
     "output_type": "stream",
     "text": [
      "tensor([-0.9951, -0.5867,  0.3833], requires_grad=True)\n",
      "y: tensor([1.0049, 1.4133, 2.3833], grad_fn=<AddBackward0>)\n",
      "z tensor([ 2.0195,  3.9946, 11.3604], grad_fn=<MulBackward0>)\n",
      "z tensor(5.7915, grad_fn=<MeanBackward0>)\n",
      "tensor([1.3398, 1.8843, 3.1778])\n"
     ]
    }
   ],
   "source": [
    "x = torch.randn(3, requires_grad=True)\n",
    "print(x)\n",
    "y = x +2\n",
    "\n",
    "print(\"y:\", y)\n",
    "\n",
    "z =y*y*2\n",
    "\n",
    "print(\"z\", z)\n",
    "z = z.mean()\n",
    "print(\"z\", z)\n",
    "\n",
    "z.backward() # calculate gradients dz/dx\n",
    "print(x.grad)\n",
    "# print(y.grad)\n",
    "# print(z.grad)\n",
    "\n",
    "\n",
    "\n",
    "\n",
    "# Inspect the function that created y\n",
    "# print(\"y.grad_fn:\", y.grad_fn)\n",
    "\n",
    "\n",
    "# #Traverse the graph backwards\n",
    "# def print_graph(var):\n",
    "#     print(f\"\\nTraversing graph for {var}\")\n",
    "#     fn = var.grad_fn\n",
    "#     while fn:\n",
    "#         print(f\" -> {fn}\")\n",
    "#         fn = fn.next_functions[0][0] if fn.next_functions else None\n",
    "\n",
    "# print_graph(z)"
   ]
  },
  {
   "cell_type": "code",
   "execution_count": 58,
   "id": "4b89ba0f",
   "metadata": {},
   "outputs": [
    {
     "name": "stdout",
     "output_type": "stream",
     "text": [
      "tensor([2.0737, 0.4979, 1.0570], requires_grad=True)\n",
      "y: tensor([4.0737, 2.4979, 3.0570], grad_fn=<AddBackward0>)\n",
      "z tensor([33.1899, 12.4788, 18.6907], grad_fn=<MulBackward0>)\n",
      "z tensor([33.1899, 12.4788, 18.6907], grad_fn=<MulBackward0>)\n",
      "tensor([1.6295, 9.9915, 0.0122])\n"
     ]
    }
   ],
   "source": [
    "from numpy import dtype\n",
    "\n",
    "\n",
    "x = torch.randn(3, requires_grad=True)\n",
    "print(x)\n",
    "y = x +2\n",
    "\n",
    "print(\"y:\", y)\n",
    "\n",
    "z =y*y*2\n",
    "\n",
    "print(\"z\", z)\n",
    "# z = z.mean() # cause error\n",
    "print(\"z\", z)\n",
    "v = torch.tensor([0.1, 1.0,0.001], dtype=torch.float32) # pass it make z scalar\n",
    "z.backward(v) # calculate gradients dz/dx\n",
    "print(x.grad)\n",
    "# print(y.grad)\n",
    "# print(z.grad)\n",
    "\n",
    "\n",
    "\n",
    "\n",
    "# Inspect the function that created y\n",
    "# print(\"y.grad_fn:\", y.grad_fn)\n",
    "\n",
    "\n",
    "# #Traverse the graph backwards\n",
    "# def print_graph(var):\n",
    "#     print(f\"\\nTraversing graph for {var}\")\n",
    "#     fn = var.grad_fn\n",
    "#     while fn:\n",
    "#         print(f\" -> {fn}\")\n",
    "#         fn = fn.next_functions[0][0] if fn.next_functions else None\n",
    "\n",
    "# print_graph(z)"
   ]
  },
  {
   "cell_type": "code",
   "execution_count": null,
   "id": "d91b375e",
   "metadata": {},
   "outputs": [],
   "source": [
    "x = torch.randn(3, requires_grad=True)\n",
    "print(x)\n",
    "\n",
    "# x.requires_grad_(False)\n",
    "# y = x.detach()\n",
    "# with torch.no_grad():\n"
   ]
  },
  {
   "cell_type": "code",
   "execution_count": null,
   "id": "a230b4c6",
   "metadata": {},
   "outputs": [
    {
     "name": "stdout",
     "output_type": "stream",
     "text": [
      "tensor([3., 3., 3., 3., 3.])\n",
      "tensor([6., 6., 6., 6., 6.])\n",
      "tensor([9., 9., 9., 9., 9.])\n",
      "tensor([3., 3., 3., 3., 3.])\n",
      "tensor([3., 3., 3., 3., 3.])\n",
      "tensor([3., 3., 3., 3., 3.])\n"
     ]
    }
   ],
   "source": [
    "#if no backward fn is called, the gradient will be accumulated\n",
    "\n",
    "\n",
    "\n",
    "weights = torch.ones(5, requires_grad=True)\n",
    "\n",
    "for epoch in range(3):\n",
    "    output = (weights *  3).sum()\n",
    "    output.backward()\n",
    "    print(weights.grad)\n",
    "\n",
    "\n",
    "weights = torch.ones(5, requires_grad=True)\n",
    "\n",
    "for epoch in range(3):\n",
    "    output = (weights *  3).sum()\n",
    "    output.backward()\n",
    "    print(weights.grad)\n",
    "    weights.grad.zero_()\n",
    "    \n",
    "\n",
    "weights = torch.ones(5, requires_grad=True)\n",
    "optimizer = torch.optim.SGD(weights, lr = 0.001)\n",
    "optimizer.step()\n",
    "optimizer.zero_grad()"
   ]
  },
  {
   "cell_type": "markdown",
   "id": "bb955078",
   "metadata": {},
   "source": [
    "### Backpropagation"
   ]
  },
  {
   "cell_type": "code",
   "execution_count": 68,
   "id": "7f06a1c8",
   "metadata": {},
   "outputs": [
    {
     "name": "stdout",
     "output_type": "stream",
     "text": [
      "tensor(1., grad_fn=<PowBackward0>)\n",
      "tensor(-2.)\n"
     ]
    }
   ],
   "source": [
    "x = torch.tensor(1.0)\n",
    "y = torch.tensor(2.0)\n",
    "w = torch.tensor(1.0, requires_grad=True)\n",
    "\n",
    "#forward pass and compute loss\n",
    "y_hat = w * x\n",
    "loss = (y_hat - y)**2\n",
    "\n",
    "print(loss)\n",
    "\n",
    "loss.backward()\n",
    "print(w.grad)\n"
   ]
  },
  {
   "cell_type": "code",
   "execution_count": null,
   "id": "6570c6aa",
   "metadata": {},
   "outputs": [],
   "source": []
  }
 ],
 "metadata": {
  "kernelspec": {
   "display_name": ".venv",
   "language": "python",
   "name": "python3"
  },
  "language_info": {
   "codemirror_mode": {
    "name": "ipython",
    "version": 3
   },
   "file_extension": ".py",
   "mimetype": "text/x-python",
   "name": "python",
   "nbconvert_exporter": "python",
   "pygments_lexer": "ipython3",
   "version": "3.11.13"
  }
 },
 "nbformat": 4,
 "nbformat_minor": 5
}
